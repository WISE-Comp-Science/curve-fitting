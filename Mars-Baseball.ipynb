{
 "cells": [
  {
   "cell_type": "code",
   "execution_count": 1,
   "metadata": {
    "collapsed": true
   },
   "outputs": [],
   "source": [
    "%matplotlib inline \n",
    "import numpy as np\n",
    "import matplotlib.pyplot as plt"
   ]
  },
  {
   "cell_type": "code",
   "execution_count": 29,
   "metadata": {
    "collapsed": true
   },
   "outputs": [],
   "source": [
    "def position(t, g, v0, phi, x0, y0):\n",
    "    # Take a time 1-D array\n",
    "    y = y0 + v0*np.sin(phi)*t + 0.5*g*t**2\n",
    "    x = x0 + v0*np.cos(phi)*t\n",
    "    actual_x = []\n",
    "    actual_y = []\n",
    "    final_x = x0\n",
    "    set_final = False\n",
    "    for xi, yi in zip(x,y):\n",
    "        if yi < 0 and not set_final:\n",
    "            set_final = True\n",
    "            final_x = xi\n",
    "        if set_final:\n",
    "            actual_x.append(final_x)\n",
    "            actual_y.append(0.0)\n",
    "        else:\n",
    "            actual_x.append(xi)\n",
    "            actual_y.append(yi)\n",
    "    actual_x = np.array(actual_x)\n",
    "    actual_y = np.array(actual_y)\n",
    "    return actual_x, actual_y"
   ]
  },
  {
   "cell_type": "code",
   "execution_count": 30,
   "metadata": {
    "collapsed": true
   },
   "outputs": [],
   "source": [
    "# Define gravitational acceleration on Mars\n",
    "g = -3.736 # m/s^2"
   ]
  },
  {
   "cell_type": "code",
   "execution_count": 31,
   "metadata": {
    "collapsed": true
   },
   "outputs": [],
   "source": [
    "# Initial position and velocity\n",
    "x0 = 0.0\n",
    "y0 = 0.0\n",
    "phi = 45.0*np.pi/180.0\n",
    "v0 = 54.0 # m/s, approx max speed for baseball"
   ]
  },
  {
   "cell_type": "code",
   "execution_count": 32,
   "metadata": {
    "collapsed": true
   },
   "outputs": [],
   "source": [
    "# Time vector\n",
    "t = np.linspace(0, 30, num=1000)"
   ]
  },
  {
   "cell_type": "code",
   "execution_count": 33,
   "metadata": {
    "collapsed": false
   },
   "outputs": [],
   "source": [
    "pos_x, pos_y = position(t, g, v0, phi, x0, y0)"
   ]
  },
  {
   "cell_type": "code",
   "execution_count": 35,
   "metadata": {
    "collapsed": false
   },
   "outputs": [
    {
     "data": {
      "text/plain": [
       "<matplotlib.text.Text at 0x7f26fe2f60b8>"
      ]
     },
     "execution_count": 35,
     "metadata": {},
     "output_type": "execute_result"
    },
    {
     "data": {
      "image/png": "[encoded data removed]",
      "text/plain": [
       "<matplotlib.figure.Figure at 0x7f26fe2e3b00>"
      ]
     },
     "metadata": {},
     "output_type": "display_data"
    }
   ],
   "source": [
    "# Plot the trajectory\n",
    "plt.plot(pos_x, pos_y, marker='.', linestyle='none')\n",
    "plt.xlabel('x')\n",
    "plt.ylabel('y')"
   ]
  },
  {
   "cell_type": "code",
   "execution_count": 36,
   "metadata": {
    "collapsed": true
   },
   "outputs": [],
   "source": [
    "f = open('mars_baseball_trajectory.txt', 'w')\n",
    "f.write('#          x                    y\\n')\n",
    "for xi, yi in zip(pos_x, pos_y):\n",
    "    f.write('{}     {}\\n'.format(xi, yi))\n",
    "f.close()"
   ]
  },
  {
   "cell_type": "code",
   "execution_count": null,
   "metadata": {
    "collapsed": true
   },
   "outputs": [],
   "source": []
  }
 ],
 "metadata": {
  "anaconda-cloud": {},
  "kernelspec": {
   "display_name": "Python [default]",
   "language": "python",
   "name": "python3"
  },
  "language_info": {
   "codemirror_mode": {
    "name": "ipython",
    "version": 3
   },
   "file_extension": ".py",
   "mimetype": "text/x-python",
   "name": "python",
   "nbconvert_exporter": "python",
   "pygments_lexer": "ipython3",
   "version": "3.5.2"
  }
 },
 "nbformat": 4,
 "nbformat_minor": 1
}
